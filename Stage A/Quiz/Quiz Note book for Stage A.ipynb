{
 "cells": [
  {
   "cell_type": "code",
   "execution_count": 1,
   "id": "d3dc91b1",
   "metadata": {},
   "outputs": [],
   "source": [
    "import numpy as np\n",
    "import pandas as pd\n"
   ]
  },
  {
   "cell_type": "code",
   "execution_count": 2,
   "id": "5f1847a8",
   "metadata": {},
   "outputs": [],
   "source": [
    "df = pd.read_csv('FoodBalanceSheets_E_Africa_NOFLAG.csv', encoding = 'latin-1')"
   ]
  },
  {
   "cell_type": "code",
   "execution_count": 3,
   "id": "ac5dff50",
   "metadata": {
    "scrolled": true
   },
   "outputs": [
    {
     "data": {
      "text/html": [
       "<div>\n",
       "<style scoped>\n",
       "    .dataframe tbody tr th:only-of-type {\n",
       "        vertical-align: middle;\n",
       "    }\n",
       "\n",
       "    .dataframe tbody tr th {\n",
       "        vertical-align: top;\n",
       "    }\n",
       "\n",
       "    .dataframe thead th {\n",
       "        text-align: right;\n",
       "    }\n",
       "</style>\n",
       "<table border=\"1\" class=\"dataframe\">\n",
       "  <thead>\n",
       "    <tr style=\"text-align: right;\">\n",
       "      <th></th>\n",
       "      <th>Area Code</th>\n",
       "      <th>Area</th>\n",
       "      <th>Item Code</th>\n",
       "      <th>Item</th>\n",
       "      <th>Element Code</th>\n",
       "      <th>Element</th>\n",
       "      <th>Unit</th>\n",
       "      <th>Y2014</th>\n",
       "      <th>Y2015</th>\n",
       "      <th>Y2016</th>\n",
       "      <th>Y2017</th>\n",
       "      <th>Y2018</th>\n",
       "    </tr>\n",
       "  </thead>\n",
       "  <tbody>\n",
       "    <tr>\n",
       "      <th>0</th>\n",
       "      <td>4</td>\n",
       "      <td>Algeria</td>\n",
       "      <td>2501</td>\n",
       "      <td>Population</td>\n",
       "      <td>511</td>\n",
       "      <td>Total Population - Both sexes</td>\n",
       "      <td>1000 persons</td>\n",
       "      <td>38924.00</td>\n",
       "      <td>39728.00</td>\n",
       "      <td>40551.00</td>\n",
       "      <td>41389.00</td>\n",
       "      <td>42228.00</td>\n",
       "    </tr>\n",
       "    <tr>\n",
       "      <th>1</th>\n",
       "      <td>4</td>\n",
       "      <td>Algeria</td>\n",
       "      <td>2501</td>\n",
       "      <td>Population</td>\n",
       "      <td>5301</td>\n",
       "      <td>Domestic supply quantity</td>\n",
       "      <td>1000 tonnes</td>\n",
       "      <td>0.00</td>\n",
       "      <td>0.00</td>\n",
       "      <td>0.00</td>\n",
       "      <td>0.00</td>\n",
       "      <td>0.00</td>\n",
       "    </tr>\n",
       "    <tr>\n",
       "      <th>2</th>\n",
       "      <td>4</td>\n",
       "      <td>Algeria</td>\n",
       "      <td>2901</td>\n",
       "      <td>Grand Total</td>\n",
       "      <td>664</td>\n",
       "      <td>Food supply (kcal/capita/day)</td>\n",
       "      <td>kcal/capita/day</td>\n",
       "      <td>3377.00</td>\n",
       "      <td>3379.00</td>\n",
       "      <td>3372.00</td>\n",
       "      <td>3341.00</td>\n",
       "      <td>3322.00</td>\n",
       "    </tr>\n",
       "    <tr>\n",
       "      <th>3</th>\n",
       "      <td>4</td>\n",
       "      <td>Algeria</td>\n",
       "      <td>2901</td>\n",
       "      <td>Grand Total</td>\n",
       "      <td>674</td>\n",
       "      <td>Protein supply quantity (g/capita/day)</td>\n",
       "      <td>g/capita/day</td>\n",
       "      <td>94.90</td>\n",
       "      <td>94.35</td>\n",
       "      <td>94.72</td>\n",
       "      <td>92.82</td>\n",
       "      <td>91.83</td>\n",
       "    </tr>\n",
       "    <tr>\n",
       "      <th>4</th>\n",
       "      <td>4</td>\n",
       "      <td>Algeria</td>\n",
       "      <td>2901</td>\n",
       "      <td>Grand Total</td>\n",
       "      <td>684</td>\n",
       "      <td>Fat supply quantity (g/capita/day)</td>\n",
       "      <td>g/capita/day</td>\n",
       "      <td>80.06</td>\n",
       "      <td>79.36</td>\n",
       "      <td>77.40</td>\n",
       "      <td>80.19</td>\n",
       "      <td>77.28</td>\n",
       "    </tr>\n",
       "  </tbody>\n",
       "</table>\n",
       "</div>"
      ],
      "text/plain": [
       "   Area Code     Area  Item Code         Item  Element Code  \\\n",
       "0          4  Algeria       2501   Population           511   \n",
       "1          4  Algeria       2501   Population          5301   \n",
       "2          4  Algeria       2901  Grand Total           664   \n",
       "3          4  Algeria       2901  Grand Total           674   \n",
       "4          4  Algeria       2901  Grand Total           684   \n",
       "\n",
       "                                  Element             Unit     Y2014  \\\n",
       "0           Total Population - Both sexes     1000 persons  38924.00   \n",
       "1                Domestic supply quantity      1000 tonnes      0.00   \n",
       "2           Food supply (kcal/capita/day)  kcal/capita/day   3377.00   \n",
       "3  Protein supply quantity (g/capita/day)     g/capita/day     94.90   \n",
       "4      Fat supply quantity (g/capita/day)     g/capita/day     80.06   \n",
       "\n",
       "      Y2015     Y2016     Y2017     Y2018  \n",
       "0  39728.00  40551.00  41389.00  42228.00  \n",
       "1      0.00      0.00      0.00      0.00  \n",
       "2   3379.00   3372.00   3341.00   3322.00  \n",
       "3     94.35     94.72     92.82     91.83  \n",
       "4     79.36     77.40     80.19     77.28  "
      ]
     },
     "execution_count": 3,
     "metadata": {},
     "output_type": "execute_result"
    }
   ],
   "source": [
    "df.head()"
   ]
  },
  {
   "cell_type": "markdown",
   "id": "006904d1",
   "metadata": {},
   "source": [
    "## Which year had the least correlation with ‘Element Code’?"
   ]
  },
  {
   "cell_type": "code",
   "execution_count": 4,
   "id": "7486ad0b",
   "metadata": {},
   "outputs": [
    {
     "name": "stdout",
     "output_type": "stream",
     "text": [
      "Year with the least correlation: Y2016\n"
     ]
    }
   ],
   "source": [
    "# Select the columns of interest\n",
    "year_columns = ['Y2014', 'Y2015', 'Y2016', 'Y2017', 'Y2018']\n",
    "\n",
    "# Calculate the correlation between 'Element Code' and each year column\n",
    "correlations = df[year_columns].corrwith(df['Element Code'])\n",
    "\n",
    "# Find the year with the least correlation\n",
    "year_with_least_correlation = correlations.idxmin()\n",
    "\n",
    "print(\"Year with the least correlation:\", year_with_least_correlation)\n"
   ]
  },
  {
   "cell_type": "markdown",
   "id": "35f675ef",
   "metadata": {},
   "source": [
    "## Perform a groupby operation on ‘Element’.  What year has the highest sum of Stock Variation?"
   ]
  },
  {
   "cell_type": "code",
   "execution_count": 5,
   "id": "b95c93da",
   "metadata": {},
   "outputs": [
    {
     "name": "stdout",
     "output_type": "stream",
     "text": [
      "Year(s) with the highest sum of Stock Variation (from highest to lowest):\n",
      "Y2018    8554629.96\n",
      "Y2017    8375729.19\n",
      "Y2016    8112472.65\n",
      "Y2015    8032340.23\n",
      "Y2014    7965086.13\n",
      "dtype: float64\n"
     ]
    },
    {
     "name": "stderr",
     "output_type": "stream",
     "text": [
      "C:\\Users\\DELL\\AppData\\Local\\Temp/ipykernel_11680/4173349510.py:2: FutureWarning: Indexing with multiple keys (implicitly converted to a tuple of keys) will be deprecated, use a list instead.\n",
      "  sum_stock_variation_by_year = df.groupby('Element')['Y2014', 'Y2015', 'Y2016', 'Y2017', 'Y2018'].sum()\n"
     ]
    }
   ],
   "source": [
    "# Perform groupby sum aggregation on 'Element' for all years\n",
    "sum_stock_variation_by_year = df.groupby('Element')['Y2014', 'Y2015', 'Y2016', 'Y2017', 'Y2018'].sum()\n",
    "\n",
    "# Find the year(s) with the highest sum of Stock Variation and sort in descending order\n",
    "years_with_highest_stock_variation = sum_stock_variation_by_year.sum(axis=0).sort_values(ascending=False)\n",
    "\n",
    "print(\"Year(s) with the highest sum of Stock Variation (from highest to lowest):\")\n",
    "print(years_with_highest_stock_variation)\n"
   ]
  },
  {
   "cell_type": "markdown",
   "id": "cd6b04f4",
   "metadata": {},
   "source": [
    "## What is the total number and percentage of missing data in 2014 to 3 decimal places?"
   ]
  },
  {
   "cell_type": "code",
   "execution_count": 6,
   "id": "d58704d7",
   "metadata": {},
   "outputs": [
    {
     "name": "stdout",
     "output_type": "stream",
     "text": [
      "Total number of missing data in Y2014: 1589\n",
      "Percentage of missing data in Y2014: 2.607 %\n"
     ]
    }
   ],
   "source": [
    "# Calculate the total number of missing data in 'Y2014'\n",
    "total_missing = df['Y2014'].isnull().sum()\n",
    "\n",
    "# Calculate the percentage of missing data in 'Y2014'\n",
    "percentage_missing = (total_missing / len(df['Y2014'])) * 100\n",
    "\n",
    "# Round the percentage to 3 decimal places\n",
    "percentage_missing = round(percentage_missing, 3)\n",
    "\n",
    "# Print the results\n",
    "print(\"Total number of missing data in Y2014:\", total_missing)\n",
    "print(\"Percentage of missing data in Y2014:\", percentage_missing, \"%\")\n"
   ]
  },
  {
   "cell_type": "markdown",
   "id": "c59f7f6a",
   "metadata": {},
   "source": [
    "## What is the total Protein supply quantity in Madagascar in 2015?"
   ]
  },
  {
   "cell_type": "code",
   "execution_count": 14,
   "id": "58bbb4c3",
   "metadata": {},
   "outputs": [
    {
     "name": "stdout",
     "output_type": "stream",
     "text": [
      "Total Protein supply quantity in Madagascar in Y2015: 173.05\n"
     ]
    }
   ],
   "source": [
    "# Define the search pattern to match the phrase \"Protein supply quantity\" in the 'Element' column\n",
    "pattern = \"Protein supply quantity\"\n",
    "\n",
    "# Filter the dataframe based on the conditions: Area is 'Madagascar' and 'Element' column matches the pattern\n",
    "filtered_df = df[(df['Area'] == 'Madagascar') & (df['Element'].str.contains(pattern, case=False, na=False))]\n",
    "\n",
    "# Extract the 'Y2015' column and calculate the sum\n",
    "total_protein_supply = filtered_df['Y2015'].sum()\n",
    "total_protein_supply = round(total_protein_supply, 2)\n",
    "print(\"Total Protein supply quantity in Madagascar in Y2015:\", total_protein_supply)\n"
   ]
  },
  {
   "cell_type": "markdown",
   "id": "f9de1c9d",
   "metadata": {},
   "source": [
    "## What is the total sum of Wine produced in 2015 and 2018 respectively?"
   ]
  },
  {
   "cell_type": "code",
   "execution_count": 8,
   "id": "4f1483fe",
   "metadata": {},
   "outputs": [
    {
     "name": "stdout",
     "output_type": "stream",
     "text": [
      "Total Wine produced in 2015: 4251.8099999999995\n",
      "Total Wine produced in 2018: 4039.3199999999997\n"
     ]
    }
   ],
   "source": [
    "wine_production_2015 = df[df['Item'] == 'Wine']['Y2015'].sum()\n",
    "wine_production_2018 = df[df['Item'] == 'Wine']['Y2018'].sum()\n",
    "\n",
    "print(\"Total Wine produced in 2015:\", wine_production_2015)\n",
    "print(\"Total Wine produced in 2018:\", wine_production_2018)"
   ]
  },
  {
   "cell_type": "markdown",
   "id": "00970971",
   "metadata": {},
   "source": [
    "## What is the mean and standard deviation across the whole dataset for the year 2017 to 2 decimal places?"
   ]
  },
  {
   "cell_type": "code",
   "execution_count": 9,
   "id": "06535eee",
   "metadata": {},
   "outputs": [
    {
     "name": "stdout",
     "output_type": "stream",
     "text": [
      "Mean for 2017: 140.92\n",
      "Standard Deviation for 2017: 1671.86\n"
     ]
    }
   ],
   "source": [
    "year_2017_data = df['Y2017'].dropna()\n",
    "mean_2017 = round(year_2017_data.mean(), 2)\n",
    "std_2017 = round(year_2017_data.std(), 2)\n",
    "\n",
    "print(\"Mean for 2017:\", mean_2017)\n",
    "print(\"Standard Deviation for 2017:\", std_2017)\n"
   ]
  },
  {
   "cell_type": "markdown",
   "id": "b23e87bc",
   "metadata": {},
   "source": [
    "## Perform a groupby operation on ‘Element’.  What is the total number of the sum of Processing in 2017?"
   ]
  },
  {
   "cell_type": "code",
   "execution_count": 10,
   "id": "f77122ae",
   "metadata": {},
   "outputs": [
    {
     "name": "stdout",
     "output_type": "stream",
     "text": [
      "Total sum of Processing in 2017: 292836.0\n"
     ]
    }
   ],
   "source": [
    "processing_2017 = df[df['Element'] == 'Processing']['Y2017'].sum()\n",
    "print(\"Total sum of Processing in 2017:\", processing_2017)"
   ]
  },
  {
   "cell_type": "markdown",
   "id": "187f378b",
   "metadata": {},
   "source": [
    "## Select columns ‘Y2017’ and ‘Area’, Perform a groupby operation on ‘Area’.  Which of these Areas had the highest sum in 2017?"
   ]
  },
  {
   "cell_type": "code",
   "execution_count": 11,
   "id": "32f5f968",
   "metadata": {},
   "outputs": [
    {
     "name": "stdout",
     "output_type": "stream",
     "text": [
      "Area with the highest sum in 2017: Nigeria\n"
     ]
    }
   ],
   "source": [
    "area_sum_2017 = df[['Y2017', 'Area']].groupby('Area')['Y2017'].sum()\n",
    "area_highest_sum_2017 = area_sum_2017.idxmax()\n",
    "\n",
    "print(\"Area with the highest sum in 2017:\", area_highest_sum_2017)"
   ]
  },
  {
   "cell_type": "markdown",
   "id": "236bf4a0",
   "metadata": {},
   "source": [
    "## Select columns ‘Y2017’ and ‘Area’, Perform a groupby operation on ‘Area’.  Which of these Areas had the 7th lowest sum in 2017?"
   ]
  },
  {
   "cell_type": "code",
   "execution_count": 12,
   "id": "159e38b0",
   "metadata": {},
   "outputs": [
    {
     "name": "stdout",
     "output_type": "stream",
     "text": [
      "Area with the 7th lowest sum in 2017: Guinea-Bissau\n"
     ]
    }
   ],
   "source": [
    "area_sum_2017 = df[['Y2017', 'Area']].groupby('Area')['Y2017'].sum()\n",
    "area_seventh_lowest_sum_2017 = area_sum_2017.nsmallest(7).index[-1]\n",
    "\n",
    "print(\"Area with the 7th lowest sum in 2017:\", area_seventh_lowest_sum_2017)"
   ]
  },
  {
   "cell_type": "markdown",
   "id": "84b98f6d",
   "metadata": {},
   "source": [
    "## What is the total number of unique countries in the dataset?"
   ]
  },
  {
   "cell_type": "code",
   "execution_count": 13,
   "id": "20421ef6",
   "metadata": {},
   "outputs": [
    {
     "name": "stdout",
     "output_type": "stream",
     "text": [
      "Total number of unique countries in the dataset: 49\n"
     ]
    }
   ],
   "source": [
    "total_unique_areas = df['Area'].nunique()\n",
    "print(\"Total number of unique countries in the dataset:\", total_unique_areas)"
   ]
  },
  {
   "cell_type": "code",
   "execution_count": null,
   "id": "fb6acbb4",
   "metadata": {},
   "outputs": [],
   "source": []
  }
 ],
 "metadata": {
  "kernelspec": {
   "display_name": "Python 3 (ipykernel)",
   "language": "python",
   "name": "python3"
  },
  "language_info": {
   "codemirror_mode": {
    "name": "ipython",
    "version": 3
   },
   "file_extension": ".py",
   "mimetype": "text/x-python",
   "name": "python",
   "nbconvert_exporter": "python",
   "pygments_lexer": "ipython3",
   "version": "3.9.7"
  }
 },
 "nbformat": 4,
 "nbformat_minor": 5
}
